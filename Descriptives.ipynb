{
  "nbformat": 4,
  "nbformat_minor": 0,
  "metadata": {
    "colab": {
      "provenance": []
    },
    "kernelspec": {
      "name": "python3",
      "display_name": "Python 3"
    },
    "language_info": {
      "name": "python"
    }
  },
  "cells": [
    {
      "cell_type": "markdown",
      "source": [
        "# **Project Description: Descriptive Analysis of Customer Purchase Patterns**\n",
        "Project Title: Understanding Customer Purchase Patterns at XYZ Retail\n",
        "Objective: The primary goal of this project is to conduct a descriptive analysis of customer purchase data at XYZ Retail. Through this analysis, we aim to summarize key characteristics of customer purchases, identify trends, and generate insights that can inform marketing strategies and inventory management.\n"
      ],
      "metadata": {
        "id": "FnslYOX0GFEC"
      }
    },
    {
      "cell_type": "code",
      "execution_count": 5,
      "metadata": {
        "colab": {
          "base_uri": "https://localhost:8080/",
          "height": 1000
        },
        "id": "3avqMRGJFL4B",
        "outputId": "d26491aa-cc15-487c-ca00-6eaeccf9cd12"
      },
      "outputs": [
        {
          "output_type": "stream",
          "name": "stdout",
          "text": [
            "Requirement already satisfied: dash in /usr/local/lib/python3.11/dist-packages (3.0.1)\n",
            "Requirement already satisfied: Flask<3.1,>=1.0.4 in /usr/local/lib/python3.11/dist-packages (from dash) (3.0.3)\n",
            "Requirement already satisfied: Werkzeug<3.1 in /usr/local/lib/python3.11/dist-packages (from dash) (3.0.6)\n",
            "Requirement already satisfied: plotly>=5.0.0 in /usr/local/lib/python3.11/dist-packages (from dash) (5.24.1)\n",
            "Requirement already satisfied: importlib-metadata in /usr/local/lib/python3.11/dist-packages (from dash) (8.6.1)\n",
            "Requirement already satisfied: typing-extensions>=4.1.1 in /usr/local/lib/python3.11/dist-packages (from dash) (4.12.2)\n",
            "Requirement already satisfied: requests in /usr/local/lib/python3.11/dist-packages (from dash) (2.32.3)\n",
            "Requirement already satisfied: retrying in /usr/local/lib/python3.11/dist-packages (from dash) (1.3.4)\n",
            "Requirement already satisfied: nest-asyncio in /usr/local/lib/python3.11/dist-packages (from dash) (1.6.0)\n",
            "Requirement already satisfied: setuptools in /usr/local/lib/python3.11/dist-packages (from dash) (75.1.0)\n",
            "Requirement already satisfied: Jinja2>=3.1.2 in /usr/local/lib/python3.11/dist-packages (from Flask<3.1,>=1.0.4->dash) (3.1.6)\n",
            "Requirement already satisfied: itsdangerous>=2.1.2 in /usr/local/lib/python3.11/dist-packages (from Flask<3.1,>=1.0.4->dash) (2.2.0)\n",
            "Requirement already satisfied: click>=8.1.3 in /usr/local/lib/python3.11/dist-packages (from Flask<3.1,>=1.0.4->dash) (8.1.8)\n",
            "Requirement already satisfied: blinker>=1.6.2 in /usr/local/lib/python3.11/dist-packages (from Flask<3.1,>=1.0.4->dash) (1.9.0)\n",
            "Requirement already satisfied: tenacity>=6.2.0 in /usr/local/lib/python3.11/dist-packages (from plotly>=5.0.0->dash) (9.0.0)\n",
            "Requirement already satisfied: packaging in /usr/local/lib/python3.11/dist-packages (from plotly>=5.0.0->dash) (24.2)\n",
            "Requirement already satisfied: MarkupSafe>=2.1.1 in /usr/local/lib/python3.11/dist-packages (from Werkzeug<3.1->dash) (3.0.2)\n",
            "Requirement already satisfied: zipp>=3.20 in /usr/local/lib/python3.11/dist-packages (from importlib-metadata->dash) (3.21.0)\n",
            "Requirement already satisfied: charset-normalizer<4,>=2 in /usr/local/lib/python3.11/dist-packages (from requests->dash) (3.4.1)\n",
            "Requirement already satisfied: idna<4,>=2.5 in /usr/local/lib/python3.11/dist-packages (from requests->dash) (3.10)\n",
            "Requirement already satisfied: urllib3<3,>=1.21.1 in /usr/local/lib/python3.11/dist-packages (from requests->dash) (2.3.0)\n",
            "Requirement already satisfied: certifi>=2017.4.17 in /usr/local/lib/python3.11/dist-packages (from requests->dash) (2025.1.31)\n",
            "Requirement already satisfied: six>=1.7.0 in /usr/local/lib/python3.11/dist-packages (from retrying->dash) (1.17.0)\n"
          ]
        },
        {
          "output_type": "stream",
          "name": "stderr",
          "text": [
            "<ipython-input-5-b5112a027e9f>:44: FutureWarning:\n",
            "\n",
            "'M' is deprecated and will be removed in a future version, please use 'ME' instead.\n",
            "\n"
          ]
        },
        {
          "output_type": "display_data",
          "data": {
            "text/plain": [
              "<IPython.core.display.Javascript object>"
            ],
            "application/javascript": [
              "(async (port, path, width, height, cache, element) => {\n",
              "    if (!google.colab.kernel.accessAllowed && !cache) {\n",
              "      return;\n",
              "    }\n",
              "    element.appendChild(document.createTextNode(''));\n",
              "    const url = await google.colab.kernel.proxyPort(port, {cache});\n",
              "    const iframe = document.createElement('iframe');\n",
              "    iframe.src = new URL(path, url).toString();\n",
              "    iframe.height = height;\n",
              "    iframe.width = width;\n",
              "    iframe.style.border = 0;\n",
              "    iframe.allow = [\n",
              "        'accelerometer',\n",
              "        'autoplay',\n",
              "        'camera',\n",
              "        'clipboard-read',\n",
              "        'clipboard-write',\n",
              "        'gyroscope',\n",
              "        'magnetometer',\n",
              "        'microphone',\n",
              "        'serial',\n",
              "        'usb',\n",
              "        'xr-spatial-tracking',\n",
              "    ].join('; ');\n",
              "    element.appendChild(iframe);\n",
              "  })(8050, \"/\", \"100%\", 650, false, window.element)"
            ]
          },
          "metadata": {}
        }
      ],
      "source": [
        "!pip install dash\n",
        "\n",
        "import dash\n",
        "from dash import dcc, html\n",
        "import plotly.express as px\n",
        "import pandas as pd\n",
        "import numpy as np\n",
        "from datetime import datetime, timedelta\n",
        "\n",
        "# --- Generate Synthetic Data ---\n",
        "np.random.seed(42)\n",
        "\n",
        "# Define constants\n",
        "num_rows = 1000\n",
        "start_date = datetime(2023, 1, 1)\n",
        "end_date = datetime(2024, 1, 1)\n",
        "\n",
        "# Generate random dates within the given range\n",
        "date_range = [start_date + timedelta(days=np.random.randint(0, (end_date - start_date).days)) for _ in range(num_rows)]\n",
        "\n",
        "# Define categories and payment methods\n",
        "product_categories = ['Electronics', 'Clothing', 'Groceries', 'Furniture', 'Toys']\n",
        "payment_methods = ['Credit Card', 'Cash', 'Digital Payment']\n",
        "\n",
        "# Generate dataset\n",
        "data = {\n",
        "    'Transaction ID': range(1, num_rows + 1),\n",
        "    'Customer ID': np.random.randint(1000, 5000, size=num_rows),\n",
        "    'Purchase Date': date_range,\n",
        "    'Product Category': np.random.choice(product_categories, size=num_rows),\n",
        "    'Quantity': np.random.randint(1, 5, size=num_rows),\n",
        "    'Price': np.round(np.random.uniform(5, 500, size=num_rows), 2),\n",
        "    'Payment Method': np.random.choice(payment_methods, size=num_rows),\n",
        "    'Location': np.random.choice(['New York', 'Los Angeles', 'Chicago', 'Houston', 'Miami'], size=num_rows)\n",
        "}\n",
        "\n",
        "df = pd.DataFrame(data)\n",
        "\n",
        "# Convert date to datetime format\n",
        "df['Purchase Date'] = pd.to_datetime(df['Purchase Date'])\n",
        "\n",
        "# --- Data Aggregation for Visualization ---\n",
        "# 1. Sales Trend Over Time\n",
        "transactions_per_month = df.set_index('Purchase Date').resample('M').size()\n",
        "sales_trend_fig = px.line(x=transactions_per_month.index, y=transactions_per_month.values,\n",
        "                          labels={'x': 'Month', 'y': 'Number of Transactions'},\n",
        "                          title=\"Sales Trend Over Time\")\n",
        "\n",
        "# 2. Product Category Distribution (Top 5)\n",
        "category_distribution = df['Product Category'].value_counts().nlargest(5)\n",
        "category_fig = px.bar(x=category_distribution.values, y=category_distribution.index,\n",
        "                      orientation='h', labels={'x': 'Number of Purchases', 'y': 'Product Category'},\n",
        "                      title=\"Product Category Distribution\")\n",
        "\n",
        "# 3. Payment Method Distribution\n",
        "payment_counts = df['Payment Method'].value_counts()\n",
        "payment_fig = px.pie(names=payment_counts.index, values=payment_counts.values,\n",
        "                     title=\"Payment Method Distribution\")\n",
        "\n",
        "# --- Build Dash App ---\n",
        "app = dash.Dash(__name__)\n",
        "\n",
        "app.layout = html.Div(children=[\n",
        "    html.H1(\"Customer Purchase Analysis Dashboard\", style={'text-align': 'center'}),\n",
        "\n",
        "    html.Div(children=[\n",
        "        dcc.Graph(figure=sales_trend_fig, style={'width': '33%', 'display': 'inline-block'}),\n",
        "        dcc.Graph(figure=category_fig, style={'width': '33%', 'display': 'inline-block'}),\n",
        "        dcc.Graph(figure=payment_fig, style={'width': '33%', 'display': 'inline-block'}),\n",
        "    ]),\n",
        "])\n",
        "\n",
        "# Run the app\n",
        "if __name__ == '__main__':\n",
        "   app.run(debug=True)"
      ]
    },
    {
      "cell_type": "code",
      "source": [
        "# 1. Sales Trend Insights\n",
        "print(\"\\n--- Sales Trend Over Time ---\")\n",
        "print(transactions_per_month.describe())  # Summary statistics for monthly transactions\n",
        "print(\"\\nPeak Sales Month:\", transactions_per_month.idxmax().strftime('%B %Y'),\n",
        "      \"with\", transactions_per_month.max(), \"transactions.\")\n",
        "\n",
        "# 2. Product Category Distribution Insights\n",
        "print(\"\\n--- Top 5 Product Categories ---\")\n",
        "print(category_distribution)\n",
        "print(\"\\nMost Purchased Product Category:\", category_distribution.idxmax(),\n",
        "      \"with\", category_distribution.max(), \"purchases.\")\n",
        "\n",
        "# 3. Payment Method Distribution Insights\n",
        "print(\"\\n--- Payment Method Distribution ---\")\n",
        "print(payment_counts)\n",
        "print(\"\\nMost Used Payment Method:\", payment_counts.idxmax(),\n",
        "      \"with\", payment_counts.max(), \"transactions.\")"
      ],
      "metadata": {
        "colab": {
          "base_uri": "https://localhost:8080/"
        },
        "id": "qmdC1zPEGZ1X",
        "outputId": "3ec7247a-ca0b-4b65-f70b-7d4ae4b49974"
      },
      "execution_count": 6,
      "outputs": [
        {
          "output_type": "stream",
          "name": "stdout",
          "text": [
            "\n",
            "--- Sales Trend Over Time ---\n",
            "count     12.000000\n",
            "mean      83.333333\n",
            "std       11.734435\n",
            "min       60.000000\n",
            "25%       77.250000\n",
            "50%       83.000000\n",
            "75%       90.250000\n",
            "max      104.000000\n",
            "dtype: float64\n",
            "\n",
            "Peak Sales Month: August 2023 with 104 transactions.\n",
            "\n",
            "--- Top 5 Product Categories ---\n",
            "Product Category\n",
            "Furniture      226\n",
            "Toys           209\n",
            "Clothing       203\n",
            "Electronics    193\n",
            "Groceries      169\n",
            "Name: count, dtype: int64\n",
            "\n",
            "Most Purchased Product Category: Furniture with 226 purchases.\n",
            "\n",
            "--- Payment Method Distribution ---\n",
            "Payment Method\n",
            "Digital Payment    344\n",
            "Cash               335\n",
            "Credit Card        321\n",
            "Name: count, dtype: int64\n",
            "\n",
            "Most Used Payment Method: Digital Payment with 344 transactions.\n"
          ]
        }
      ]
    },
    {
      "cell_type": "markdown",
      "source": [
        "# **Insights and Findings**\n",
        "The descriptive analysis of customer purchase patterns at XYZ Retail reveals several key insights. The peak sales period occurred in August 2023, with the highest number of transactions (104), suggesting a potential seasonal demand, possibly influenced by back-to-school shopping or summer promotions. The top-selling product category was Furniture (226 purchases), followed by Toys (209), Clothing (203), Electronics (193), and Groceries (169). This indicates a strong demand for home-related products and children’s items, which may correlate with seasonal promotions or consumer preferences.\n",
        "\n",
        "In terms of payment preferences, Digital Payments (344 transactions) were the most frequently used method, surpassing Cash (335 transactions) and Credit Cards (321 transactions). This suggests a growing trend toward digital transactions, which could be attributed to increasing convenience, mobile payment adoption, or store incentives for cashless payments.\n",
        "\n",
        "# **Recommendations**\n",
        "Inventory Management:\n",
        "\n",
        "Given that Furniture is the most purchased category, XYZ Retail should ensure adequate stock levels for high-demand furniture items, especially leading up to peak shopping months.\n",
        "\n",
        "Since Toys and Clothing also have high purchase rates, targeted promotions and bulk stocking should be considered during peak seasons.\n",
        "\n",
        "Targeted Marketing Strategies:\n",
        "\n",
        "The spike in transactions in August suggests a seasonal shopping trend. Marketing campaigns could be optimized around this period by offering special discounts or bundle deals on high-demand categories.\n",
        "\n",
        "Digital payments are gaining popularity, so offering exclusive discounts for mobile or online transactions could further drive engagement.\n",
        "\n",
        "Promotional Strategies:\n",
        "\n",
        "Loyalty programs or cashback rewards for digital payment users can help enhance customer retention and drive higher transaction values.\n",
        "\n",
        "Since Furniture and Toys are top-selling categories, cross-promotional strategies such as “Buy Furniture, Get a Discount on Home Decor” could increase sales volume.\n",
        "\n",
        "By leveraging these insights, XYZ Retail can enhance its inventory planning, marketing effectiveness, and customer experience, ultimately driving increased sales and customer satisfaction."
      ],
      "metadata": {
        "id": "j5n8tGqeG1Ku"
      }
    }
  ]
}