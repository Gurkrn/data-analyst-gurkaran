{
  "nbformat": 4,
  "nbformat_minor": 0,
  "metadata": {
    "colab": {
      "provenance": []
    },
    "kernelspec": {
      "name": "python3",
      "display_name": "Python 3"
    },
    "language_info": {
      "name": "python"
    }
  },
  "cells": [
    {
      "cell_type": "markdown",
      "source": [
        "# **Titanic Survival Analysis: EDA & Dashboard Report**\n",
        "\n",
        "🔹 Introduction\n",
        "The Titanic disaster of 1912 remains one of the most infamous maritime tragedies. The ship carried passengers from various socioeconomic backgrounds, and survival was influenced by factors such as class, age, gender, and family presence. This analysis uses the Titanic dataset to explore survival trends and patterns.\n",
        "\n",
        "By leveraging Exploratory Data Analysis (EDA) and visualization tools, we investigate key factors affecting survival and present findings through an interactive dashboard built using Dash and Plotly.\n",
        "\n"
      ],
      "metadata": {
        "id": "aHVC4VxZ5d6F"
      }
    },
    {
      "cell_type": "markdown",
      "source": [
        "# **Methodology Summary**\n",
        "The dataset was processed and analyzed using Python (Pandas, Plotly, Dash). The following steps were taken:\n",
        "\n",
        "**Data Cleaning**\n",
        "\n",
        "Handled missing values (e.g., missing ages estimated using median values)\n",
        "\n",
        "Converted categorical data (e.g., sex converted to numerical format).\n",
        "\n",
        "**Exploratory Data Analysis (EDA)**\n",
        "\n",
        "Descriptive statistics: Analyzed age, class distribution, and survival rates.\n",
        "\n",
        "Visualizations: Created pie charts, bar plots, and survival distributions.\n",
        "\n",
        "**Dashboard Development**\n",
        "\n",
        "A horizontal dashboard was built using Dash to display:\n",
        "\n",
        "Survival Rate Pie Chart\n",
        "\n",
        "Numerical survival counts\n",
        "\n"
      ],
      "metadata": {
        "id": "NXbVFHJC5uWi"
      }
    },
    {
      "cell_type": "code",
      "execution_count": 2,
      "metadata": {
        "colab": {
          "base_uri": "https://localhost:8080/"
        },
        "id": "drYFh6Yzc7Ni",
        "outputId": "61b21da7-efa0-493e-9cf6-3fa0ae4fe4ce"
      },
      "outputs": [
        {
          "output_type": "stream",
          "name": "stdout",
          "text": [
            "   PassengerId  Survived  Pclass  \\\n",
            "0          892         0       3   \n",
            "1          893         1       3   \n",
            "2          894         0       2   \n",
            "3          895         0       3   \n",
            "4          896         1       3   \n",
            "\n",
            "                                           Name     Sex   Age  SibSp  Parch  \\\n",
            "0                              Kelly, Mr. James    male  34.5      0      0   \n",
            "1              Wilkes, Mrs. James (Ellen Needs)  female  47.0      1      0   \n",
            "2                     Myles, Mr. Thomas Francis    male  62.0      0      0   \n",
            "3                              Wirz, Mr. Albert    male  27.0      0      0   \n",
            "4  Hirvonen, Mrs. Alexander (Helga E Lindqvist)  female  22.0      1      1   \n",
            "\n",
            "    Ticket     Fare Cabin Embarked  \n",
            "0   330911   7.8292   NaN        Q  \n",
            "1   363272   7.0000   NaN        S  \n",
            "2   240276   9.6875   NaN        Q  \n",
            "3   315154   8.6625   NaN        S  \n",
            "4  3101298  12.2875   NaN        S  \n",
            "PassengerId      0\n",
            "Survived         0\n",
            "Pclass           0\n",
            "Name             0\n",
            "Sex              0\n",
            "Age             86\n",
            "SibSp            0\n",
            "Parch            0\n",
            "Ticket           0\n",
            "Fare             1\n",
            "Cabin          327\n",
            "Embarked         0\n",
            "dtype: int64\n",
            "<class 'pandas.core.frame.DataFrame'>\n",
            "RangeIndex: 418 entries, 0 to 417\n",
            "Data columns (total 11 columns):\n",
            " #   Column       Non-Null Count  Dtype  \n",
            "---  ------       --------------  -----  \n",
            " 0   PassengerId  418 non-null    int64  \n",
            " 1   Survived     418 non-null    int64  \n",
            " 2   Pclass       418 non-null    int64  \n",
            " 3   Name         418 non-null    object \n",
            " 4   Sex          418 non-null    int64  \n",
            " 5   Age          418 non-null    float64\n",
            " 6   SibSp        418 non-null    int64  \n",
            " 7   Parch        418 non-null    int64  \n",
            " 8   Ticket       418 non-null    object \n",
            " 9   Fare         417 non-null    float64\n",
            " 10  Embarked     418 non-null    object \n",
            "dtypes: float64(2), int64(6), object(3)\n",
            "memory usage: 36.1+ KB\n",
            "None\n",
            "       PassengerId    Survived      Pclass         Sex         Age  \\\n",
            "count   418.000000  418.000000  418.000000  418.000000  418.000000   \n",
            "mean   1100.500000    0.363636    2.265550    0.363636   29.599282   \n",
            "std     120.810458    0.481622    0.841838    0.481622   12.703770   \n",
            "min     892.000000    0.000000    1.000000    0.000000    0.170000   \n",
            "25%     996.250000    0.000000    1.000000    0.000000   23.000000   \n",
            "50%    1100.500000    0.000000    3.000000    0.000000   27.000000   \n",
            "75%    1204.750000    1.000000    3.000000    1.000000   35.750000   \n",
            "max    1309.000000    1.000000    3.000000    1.000000   76.000000   \n",
            "\n",
            "            SibSp       Parch        Fare  \n",
            "count  418.000000  418.000000  417.000000  \n",
            "mean     0.447368    0.392344   35.627188  \n",
            "std      0.896760    0.981429   55.907576  \n",
            "min      0.000000    0.000000    0.000000  \n",
            "25%      0.000000    0.000000    7.895800  \n",
            "50%      0.000000    0.000000   14.454200  \n",
            "75%      1.000000    0.000000   31.500000  \n",
            "max      8.000000    9.000000  512.329200  \n",
            "Pclass\n",
            "3    218\n",
            "1    107\n",
            "2     93\n",
            "Name: count, dtype: int64\n",
            "Sex\n",
            "0    266\n",
            "1    152\n",
            "Name: count, dtype: int64\n"
          ]
        }
      ],
      "source": [
        "# Import necessary libraries\n",
        "import pandas as pd\n",
        "import numpy as np\n",
        "import matplotlib.pyplot as plt\n",
        "import seaborn as sns\n",
        "\n",
        "# Load the dataset\n",
        "titanic = pd.read_csv(\"/content/tested.csv\")  # Update path if needed\n",
        "\n",
        "# Display first few rows\n",
        "print(titanic.head())\n",
        "\n",
        "# Check for missing values\n",
        "print(titanic.isnull().sum())\n",
        "\n",
        "# Fill missing Age values with the median (updated method)\n",
        "titanic[\"Age\"] = titanic[\"Age\"].fillna(titanic[\"Age\"].median())\n",
        "\n",
        "# Fill missing Embarked values with the mode (updated method)\n",
        "titanic[\"Embarked\"] = titanic[\"Embarked\"].fillna(titanic[\"Embarked\"].mode()[0])\n",
        "\n",
        "# Drop Cabin column due to excessive missing values\n",
        "titanic = titanic.drop(columns=[\"Cabin\"])\n",
        "\n",
        "# Convert categorical variables to numerical if needed\n",
        "titanic[\"Sex\"] = titanic[\"Sex\"].map({\"male\": 0, \"female\": 1})\n",
        "\n",
        "titanic[\"Fare\"].fillna(titanic[\"Fare\"].median())\n",
        "\n",
        "# Verify data after cleaning\n",
        "print(titanic.info())\n",
        "\n",
        "# Summary statistics\n",
        "print(titanic.describe())\n",
        "\n",
        "# Count of passengers by class and gender\n",
        "print(titanic[\"Pclass\"].value_counts())\n",
        "print(titanic[\"Sex\"].value_counts())"
      ]
    },
    {
      "cell_type": "code",
      "source": [
        "!pip install dash\n",
        "\n",
        "import dash\n",
        "from dash import dcc, html\n",
        "import plotly.express as px\n",
        "import pandas as pd\n",
        "\n",
        "# Create visualizations\n",
        "fig1 = px.histogram(titanic, x=\"Pclass\", color=\"Survived\", barmode=\"group\", title=\"Survival Rate by Class\")\n",
        "fig2 = px.box(titanic, x=\"Fare\", title=\"Fare Distribution\")\n",
        "fig3 = px.histogram(titanic, x=\"Age\", title=\"Age Distribution\")\n",
        "fig4 = px.sunburst(titanic, path=[\"Pclass\", \"Sex\", \"Survived\"], title=\"Passenger Flow\")\n",
        "\n",
        "# Initialize Dash app\n",
        "app = dash.Dash(__name__)\n",
        "\n",
        "# Layout: Horizontal dashboard\n",
        "app.layout = html.Div(style={'display': 'flex'}, children=[\n",
        "    html.Div(children=[dcc.Graph(figure=fig1)], style={'width': '25%'}),\n",
        "    html.Div(children=[dcc.Graph(figure=fig2)], style={'width': '25%'}),\n",
        "    html.Div(children=[dcc.Graph(figure=fig3)], style={'width': '25%'}),\n",
        "    html.Div(children=[dcc.Graph(figure=fig4)], style={'width': '25%'})\n",
        "])\n",
        "\n",
        "# Run the app\n",
        "if __name__ == '__main__':\n",
        "   app.run(debug=True)"
      ],
      "metadata": {
        "colab": {
          "base_uri": "https://localhost:8080/",
          "height": 1000
        },
        "id": "pwSErkRQjUXO",
        "outputId": "9f077a17-36a6-4e7f-ea6b-c3b3bb53269b"
      },
      "execution_count": 7,
      "outputs": [
        {
          "output_type": "stream",
          "name": "stdout",
          "text": [
            "Requirement already satisfied: dash in /usr/local/lib/python3.11/dist-packages (3.0.1)\n",
            "Requirement already satisfied: Flask<3.1,>=1.0.4 in /usr/local/lib/python3.11/dist-packages (from dash) (3.0.3)\n",
            "Requirement already satisfied: Werkzeug<3.1 in /usr/local/lib/python3.11/dist-packages (from dash) (3.0.6)\n",
            "Requirement already satisfied: plotly>=5.0.0 in /usr/local/lib/python3.11/dist-packages (from dash) (5.24.1)\n",
            "Requirement already satisfied: importlib-metadata in /usr/local/lib/python3.11/dist-packages (from dash) (8.6.1)\n",
            "Requirement already satisfied: typing-extensions>=4.1.1 in /usr/local/lib/python3.11/dist-packages (from dash) (4.12.2)\n",
            "Requirement already satisfied: requests in /usr/local/lib/python3.11/dist-packages (from dash) (2.32.3)\n",
            "Requirement already satisfied: retrying in /usr/local/lib/python3.11/dist-packages (from dash) (1.3.4)\n",
            "Requirement already satisfied: nest-asyncio in /usr/local/lib/python3.11/dist-packages (from dash) (1.6.0)\n",
            "Requirement already satisfied: setuptools in /usr/local/lib/python3.11/dist-packages (from dash) (75.1.0)\n",
            "Requirement already satisfied: Jinja2>=3.1.2 in /usr/local/lib/python3.11/dist-packages (from Flask<3.1,>=1.0.4->dash) (3.1.6)\n",
            "Requirement already satisfied: itsdangerous>=2.1.2 in /usr/local/lib/python3.11/dist-packages (from Flask<3.1,>=1.0.4->dash) (2.2.0)\n",
            "Requirement already satisfied: click>=8.1.3 in /usr/local/lib/python3.11/dist-packages (from Flask<3.1,>=1.0.4->dash) (8.1.8)\n",
            "Requirement already satisfied: blinker>=1.6.2 in /usr/local/lib/python3.11/dist-packages (from Flask<3.1,>=1.0.4->dash) (1.9.0)\n",
            "Requirement already satisfied: tenacity>=6.2.0 in /usr/local/lib/python3.11/dist-packages (from plotly>=5.0.0->dash) (9.0.0)\n",
            "Requirement already satisfied: packaging in /usr/local/lib/python3.11/dist-packages (from plotly>=5.0.0->dash) (24.2)\n",
            "Requirement already satisfied: MarkupSafe>=2.1.1 in /usr/local/lib/python3.11/dist-packages (from Werkzeug<3.1->dash) (3.0.2)\n",
            "Requirement already satisfied: zipp>=3.20 in /usr/local/lib/python3.11/dist-packages (from importlib-metadata->dash) (3.21.0)\n",
            "Requirement already satisfied: charset-normalizer<4,>=2 in /usr/local/lib/python3.11/dist-packages (from requests->dash) (3.4.1)\n",
            "Requirement already satisfied: idna<4,>=2.5 in /usr/local/lib/python3.11/dist-packages (from requests->dash) (3.10)\n",
            "Requirement already satisfied: urllib3<3,>=1.21.1 in /usr/local/lib/python3.11/dist-packages (from requests->dash) (2.3.0)\n",
            "Requirement already satisfied: certifi>=2017.4.17 in /usr/local/lib/python3.11/dist-packages (from requests->dash) (2025.1.31)\n",
            "Requirement already satisfied: six>=1.7.0 in /usr/local/lib/python3.11/dist-packages (from retrying->dash) (1.17.0)\n"
          ]
        },
        {
          "output_type": "display_data",
          "data": {
            "text/plain": [
              "<IPython.core.display.Javascript object>"
            ],
            "application/javascript": [
              "(async (port, path, width, height, cache, element) => {\n",
              "    if (!google.colab.kernel.accessAllowed && !cache) {\n",
              "      return;\n",
              "    }\n",
              "    element.appendChild(document.createTextNode(''));\n",
              "    const url = await google.colab.kernel.proxyPort(port, {cache});\n",
              "    const iframe = document.createElement('iframe');\n",
              "    iframe.src = new URL(path, url).toString();\n",
              "    iframe.height = height;\n",
              "    iframe.width = width;\n",
              "    iframe.style.border = 0;\n",
              "    iframe.allow = [\n",
              "        'accelerometer',\n",
              "        'autoplay',\n",
              "        'camera',\n",
              "        'clipboard-read',\n",
              "        'clipboard-write',\n",
              "        'gyroscope',\n",
              "        'magnetometer',\n",
              "        'microphone',\n",
              "        'serial',\n",
              "        'usb',\n",
              "        'xr-spatial-tracking',\n",
              "    ].join('; ');\n",
              "    element.appendChild(iframe);\n",
              "  })(8050, \"/\", \"100%\", 650, false, window.element)"
            ]
          },
          "metadata": {}
        }
      ]
    },
    {
      "cell_type": "code",
      "source": [
        "# Calculate survival rate by class\n",
        "survival_by_class = titanic.groupby(\"Pclass\")[\"Survived\"].mean() * 100\n",
        "\n",
        "# Plot\n",
        "plt.figure(figsize=(8, 5))\n",
        "sns.barplot(x=survival_by_class.index, y=survival_by_class.values, palette=\"viridis\")\n",
        "\n",
        "# Labels and title\n",
        "plt.xlabel(\"Passenger Class\")\n",
        "plt.ylabel(\"Survival Rate (%)\")\n",
        "plt.title(\"Survival Rate by Passenger Class\")\n",
        "plt.ylim(0, 100)\n",
        "\n",
        "# Show values on top of bars\n",
        "for i, rate in enumerate(survival_by_class.values):\n",
        "    plt.text(i, rate + 2, f\"{rate:.1f}%\", ha=\"center\", fontsize=12)\n",
        "\n",
        "plt.show()"
      ],
      "metadata": {
        "colab": {
          "base_uri": "https://localhost:8080/",
          "height": 608
        },
        "id": "X2Ay-Fdv7oF8",
        "outputId": "57ed0ff1-7124-460e-b575-4275991d1e9b"
      },
      "execution_count": 9,
      "outputs": [
        {
          "output_type": "stream",
          "name": "stderr",
          "text": [
            "<ipython-input-9-ce174323d280>:6: FutureWarning:\n",
            "\n",
            "\n",
            "\n",
            "Passing `palette` without assigning `hue` is deprecated and will be removed in v0.14.0. Assign the `x` variable to `hue` and set `legend=False` for the same effect.\n",
            "\n",
            "\n"
          ]
        },
        {
          "output_type": "display_data",
          "data": {
            "text/plain": [
              "<Figure size 800x500 with 1 Axes>"
            ],
            "image/png": "[encoded data removed]"
          },
          "metadata": {}
        }
      ]
    },
    {
      "cell_type": "code",
      "source": [
        "# Survival Analysis Values\n",
        "survival_counts = titanic['Survived'].value_counts()\n",
        "survival_labels = ['Did Not Survive', 'Survived']\n",
        "\n",
        "# Pie Chart\n",
        "survival_pie = px.pie(\n",
        "    names=survival_labels,\n",
        "    values=survival_counts,\n",
        "    title=\"Titanic Survival Distribution\",\n",
        "    hole=0.4  # Optional: Donut-style chart\n",
        ")\n",
        "\n",
        "# Initialize Dash App\n",
        "app = dash.Dash(__name__)\n",
        "\n",
        "# Define Layout (Horizontal Dashboard)\n",
        "app.layout = html.Div(\n",
        "    style={'display': 'flex', 'justify-content': 'space-between', 'padding': '20px'},\n",
        "    children=[\n",
        "        # Survival Pie Chart\n",
        "        html.Div(\n",
        "            children=[\n",
        "                dcc.Graph(figure=survival_pie)\n",
        "            ],\n",
        "            style={'width': '50%', 'padding': '10px'}\n",
        "        ),\n",
        "\n",
        "        # Survival Values Table\n",
        "        html.Div(\n",
        "            children=[\n",
        "                html.H3(\"Survival Count Values\"),\n",
        "                html.P(f\"Did Not Survive: {survival_counts[0]}\"),\n",
        "                html.P(f\"Survived: {survival_counts[1]}\")\n",
        "            ],\n",
        "            style={'width': '40%', 'padding': '20px', 'fontSize': '20px'}\n",
        "        )\n",
        "    ]\n",
        ")\n",
        "\n",
        "# Run the app\n",
        "if __name__ == '__main__':\n",
        "    app.run(debug=True)"
      ],
      "metadata": {
        "colab": {
          "base_uri": "https://localhost:8080/",
          "height": 671
        },
        "id": "z9Z7IMehmquS",
        "outputId": "1af4d3a9-c448-4f17-d6f3-7dd139b561da"
      },
      "execution_count": 10,
      "outputs": [
        {
          "output_type": "display_data",
          "data": {
            "text/plain": [
              "<IPython.core.display.Javascript object>"
            ],
            "application/javascript": [
              "(async (port, path, width, height, cache, element) => {\n",
              "    if (!google.colab.kernel.accessAllowed && !cache) {\n",
              "      return;\n",
              "    }\n",
              "    element.appendChild(document.createTextNode(''));\n",
              "    const url = await google.colab.kernel.proxyPort(port, {cache});\n",
              "    const iframe = document.createElement('iframe');\n",
              "    iframe.src = new URL(path, url).toString();\n",
              "    iframe.height = height;\n",
              "    iframe.width = width;\n",
              "    iframe.style.border = 0;\n",
              "    iframe.allow = [\n",
              "        'accelerometer',\n",
              "        'autoplay',\n",
              "        'camera',\n",
              "        'clipboard-read',\n",
              "        'clipboard-write',\n",
              "        'gyroscope',\n",
              "        'magnetometer',\n",
              "        'microphone',\n",
              "        'serial',\n",
              "        'usb',\n",
              "        'xr-spatial-tracking',\n",
              "    ].join('; ');\n",
              "    element.appendChild(iframe);\n",
              "  })(8050, \"/\", \"100%\", 650, false, window.element)"
            ]
          },
          "metadata": {}
        }
      ]
    },
    {
      "cell_type": "markdown",
      "source": [
        "# **Insights and Findings**\n",
        "The analysis of Titanic passenger survival rates reveals significant disparities based on class and overall demographics. The overall survival rate was 36.4%, while 63.6% of passengers did not survive. A closer examination of survival rates by passenger class highlights a stark advantage for those in first class (46.7%), compared to second-class passengers (32.3%) and third-class passengers (33.0%). This suggests that passengers traveling in first class had a considerably higher likelihood of survival, possibly due to their proximity to lifeboats, prioritization in evacuation procedures, or access to better resources on board.\n",
        "\n",
        "Additional patterns observed in survival rates align with historical accounts of the disaster. Women and children were more likely to survive, reinforcing the well-documented \"women and children first\" policy that was followed during the evacuation. The lower survival rate among third-class passengers may indicate barriers such as their cabins being located in lower sections of the ship, which made evacuation more difficult.\n",
        "\n",
        "# **Conclusion**\n",
        "These findings emphasize the impact of social and economic status on survival during the Titanic disaster. The data suggests that access to resources, proximity to escape routes, and societal norms at the time played critical roles in determining survival outcomes. From a data-driven perspective, these insights can be further expanded through predictive modeling techniques, such as machine learning classifiers, to assess the likelihood of survival based on passenger characteristics. Future analyses could incorporate additional factors, such as family size, ticket fare, and embarkation port, to enhance our understanding of survival determinants. This study also highlights how historical events can be quantitatively analyzed to uncover deeper patterns and inform modern safety policies in maritime travel."
      ],
      "metadata": {
        "id": "xoYPTMh49Ls_"
      }
    }
  ]
}